{
 "cells": [
  {
   "cell_type": "code",
   "execution_count": 0,
   "metadata": {},
   "outputs": [],
   "source": [
    "import numpy as np\n"
   ]
  },
  {
   "cell_type": "code",
   "execution_count": 1,
   "metadata": {},
   "outputs": [
    {
     "ename": "NameError",
     "evalue": "name 'np' is not defined",
     "traceback": [
      "\u001b[0;31m---------------------------------------------------------------------------\u001b[0m",
      "\u001b[0;31mNameError\u001b[0m                                 Traceback (most recent call last)",
      "\u001b[0;32m<ipython-input-1-48b668fbb58e>\u001b[0m in \u001b[0;36m<module>\u001b[0;34m()\u001b[0m\n\u001b[1;32m      1\u001b[0m \u001b[0;31m# 1)\u001b[0m\u001b[0;34m\u001b[0m\u001b[0;34m\u001b[0m\u001b[0m\n\u001b[0;32m----> 2\u001b[0;31m \u001b[0mA\u001b[0m \u001b[0;34m=\u001b[0m \u001b[0mnp\u001b[0m\u001b[0;34m.\u001b[0m\u001b[0marray\u001b[0m\u001b[0;34m(\u001b[0m\u001b[0;34m[\u001b[0m\u001b[0;34m[\u001b[0m\u001b[0;36m1\u001b[0m\u001b[0;34m,\u001b[0m \u001b[0;36m2\u001b[0m\u001b[0;34m,\u001b[0m \u001b[0;36m3\u001b[0m\u001b[0;34m]\u001b[0m\u001b[0;34m,\u001b[0m \u001b[0;34m[\u001b[0m\u001b[0;36m4\u001b[0m\u001b[0;34m,\u001b[0m \u001b[0;36m5\u001b[0m\u001b[0;34m,\u001b[0m \u001b[0;36m6\u001b[0m\u001b[0;34m]\u001b[0m\u001b[0;34m,\u001b[0m \u001b[0;34m[\u001b[0m\u001b[0;36m7\u001b[0m\u001b[0;34m,\u001b[0m \u001b[0;36m8\u001b[0m\u001b[0;34m,\u001b[0m \u001b[0;36m9\u001b[0m\u001b[0;34m]\u001b[0m\u001b[0;34m]\u001b[0m\u001b[0;34m)\u001b[0m\u001b[0;34m\u001b[0m\u001b[0m\n\u001b[0m\u001b[1;32m      3\u001b[0m \u001b[0mb\u001b[0m \u001b[0;34m=\u001b[0m \u001b[0mnp\u001b[0m\u001b[0;34m.\u001b[0m\u001b[0marray\u001b[0m\u001b[0;34m(\u001b[0m\u001b[0;34m[\u001b[0m\u001b[0;36m1\u001b[0m\u001b[0;34m,\u001b[0m \u001b[0;36m2\u001b[0m\u001b[0;34m,\u001b[0m \u001b[0;36m3\u001b[0m\u001b[0;34m]\u001b[0m\u001b[0;34m)\u001b[0m\u001b[0;34m\u001b[0m\u001b[0m\n\u001b[1;32m      4\u001b[0m \u001b[0mc\u001b[0m \u001b[0;34m=\u001b[0m \u001b[0;36m5\u001b[0m\u001b[0;34m\u001b[0m\u001b[0m\n\u001b[1;32m      5\u001b[0m \u001b[0;34m\u001b[0m\u001b[0m\n",
      "\u001b[0;31mNameError\u001b[0m: name 'np' is not defined"
     ],
     "output_type": "error"
    }
   ],
   "source": [
    "# 1) \n",
    "A = np.array([[1, 2, 3], [4, 5, 6], [7, 8, 9]])\n",
    "b = np.array([1, 2, 3])\n",
    "c = 5\n",
    "\n",
    "\n",
    "def func(x):\n",
    "    x_transpose = np.transpose(x)\n",
    "    return 1 / 2 * (x @ A @ x_transpose) - b @ x_transpose + c\n",
    "\n",
    "\n",
    "def f_grad(x):\n",
    "    return A @ x - b\n",
    "\n",
    "\n",
    "lambdas = list(np.linalg.eig(A)[0])\n"
   ]
  },
  {
   "cell_type": "code",
   "execution_count": 148,
   "metadata": {},
   "outputs": [
    {
     "name": "stdout",
     "output_type": "stream",
     "text": [
      "[array([1, 1, 1]), array([0.        , 0.06278172, 0.06278172]), array([0.43918905, 0.        , 0.        ]), array([0.08456618, 0.41161601, 0.205808  ]), array([0.4911049, 0.       , 0.       ]), array([0.03916906, 0.46027249, 0.23013624]), array([0.54220222, 0.        , 0.        ]), array([0.        , 0.50816184, 0.25408092]), array([0.58767378, 0.        , 0.        ]), array([0.        , 0.55077861, 0.2753893 ]), array([0.59765909, 0.        , 0.        ]), array([0.        , 0.56013702, 0.28006851]), array([0.5998518, 0.       , 0.       ]), array([0.        , 0.56219208, 0.28109604]), array([0.60033331, 0.        , 0.        ]), array([0.        , 0.56264335, 0.28132168]), array([0.60043905, 0.        , 0.        ]), array([0.        , 0.56274245, 0.28137123]), array([0.60046227, 0.        , 0.        ]), array([0.        , 0.56276421, 0.28138211]), array([0.60046737, 0.        , 0.        ]), array([0.        , 0.56276899, 0.2813845 ]), array([0.60046849, 0.        , 0.        ]), array([0.        , 0.56277004, 0.28138502]), array([0.60046873, 0.        , 0.        ]), array([0.        , 0.56277027, 0.28138514]), array([0.60046879, 0.        , 0.        ]), array([0.        , 0.56277032, 0.28138516]), array([0.6004688, 0.       , 0.       ]), array([0.        , 0.56277033, 0.28138517]), array([0.6004688, 0.       , 0.       ]), array([0.        , 0.56277034, 0.28138517]), array([0.6004688, 0.       , 0.       ]), array([0.        , 0.56277034, 0.28138517]), array([0.6004688, 0.       , 0.       ]), array([0.        , 0.56277034, 0.28138517]), array([0.6004688, 0.       , 0.       ]), array([0.        , 0.56277034, 0.28138517]), array([0.6004688, 0.       , 0.       ]), array([0.        , 0.56277034, 0.28138517]), array([0.6004688, 0.       , 0.       ]), array([0.        , 0.56277034, 0.28138517]), array([0.6004688, 0.       , 0.       ]), array([0.        , 0.56277034, 0.28138517]), array([0.6004688, 0.       , 0.       ]), array([0.        , 0.56277034, 0.28138517]), array([0.6004688, 0.       , 0.       ]), array([0.        , 0.56277034, 0.28138517]), array([0.6004688, 0.       , 0.       ]), array([0.        , 0.56277034, 0.28138517]), array([0.6004688, 0.       , 0.       ]), array([0.        , 0.56277034, 0.28138517]), array([0.6004688, 0.       , 0.       ]), array([0.        , 0.56277034, 0.28138517]), array([0.6004688, 0.       , 0.       ]), array([0.        , 0.56277034, 0.28138517]), array([0.6004688, 0.       , 0.       ]), array([0.        , 0.56277034, 0.28138517]), array([0.6004688, 0.       , 0.       ]), array([0.        , 0.56277034, 0.28138517]), array([0.6004688, 0.       , 0.       ]), array([0.        , 0.56277034, 0.28138517]), array([0.6004688, 0.       , 0.       ]), array([0.        , 0.56277034, 0.28138517]), array([0.6004688, 0.       , 0.       ]), array([0.        , 0.56277034, 0.28138517]), array([0.6004688, 0.       , 0.       ]), array([0.        , 0.56277034, 0.28138517]), array([0.6004688, 0.       , 0.       ]), array([0.        , 0.56277034, 0.28138517]), array([0.6004688, 0.       , 0.       ]), array([0.        , 0.56277034, 0.28138517]), array([0.6004688, 0.       , 0.       ]), array([0.        , 0.56277034, 0.28138517]), array([0.6004688, 0.       , 0.       ]), array([0.        , 0.56277034, 0.28138517]), array([0.6004688, 0.       , 0.       ]), array([0.        , 0.56277034, 0.28138517]), array([0.6004688, 0.       , 0.       ]), array([0.        , 0.56277034, 0.28138517]), array([0.6004688, 0.       , 0.       ]), array([0.        , 0.56277034, 0.28138517]), array([0.6004688, 0.       , 0.       ]), array([0.        , 0.56277034, 0.28138517]), array([0.6004688, 0.       , 0.       ]), array([0.        , 0.56277034, 0.28138517]), array([0.6004688, 0.       , 0.       ]), array([0.        , 0.56277034, 0.28138517]), array([0.6004688, 0.       , 0.       ]), array([0.        , 0.56277034, 0.28138517]), array([0.6004688, 0.       , 0.       ]), array([0.        , 0.56277034, 0.28138517]), array([0.6004688, 0.       , 0.       ]), array([0.        , 0.56277034, 0.28138517]), array([0.6004688, 0.       , 0.       ]), array([0.        , 0.56277034, 0.28138517]), array([0.6004688, 0.       , 0.       ]), array([0.        , 0.56277034, 0.28138517]), array([0.6004688, 0.       , 0.       ]), array([0.        , 0.56277034, 0.28138517]), array([0.6004688, 0.       , 0.       ]), array([0.        , 0.56277034, 0.28138517]), array([0.6004688, 0.       , 0.       ]), array([0.        , 0.56277034, 0.28138517]), array([0.6004688, 0.       , 0.       ]), array([0.        , 0.56277034, 0.28138517]), array([0.6004688, 0.       , 0.       ]), array([0.        , 0.56277034, 0.28138517]), array([0.6004688, 0.       , 0.       ]), array([0.        , 0.56277034, 0.28138517]), array([0.6004688, 0.       , 0.       ]), array([0.        , 0.56277034, 0.28138517]), array([0.6004688, 0.       , 0.       ]), array([0.        , 0.56277034, 0.28138517]), array([0.6004688, 0.       , 0.       ]), array([0.        , 0.56277034, 0.28138517]), array([0.6004688, 0.       , 0.       ]), array([0.        , 0.56277034, 0.28138517]), array([0.6004688, 0.       , 0.       ]), array([0.        , 0.56277034, 0.28138517]), array([0.6004688, 0.       , 0.       ]), array([0.        , 0.56277034, 0.28138517]), array([0.6004688, 0.       , 0.       ]), array([0.        , 0.56277034, 0.28138517]), array([0.6004688, 0.       , 0.       ]), array([0.        , 0.56277034, 0.28138517]), array([0.6004688, 0.       , 0.       ]), array([0.        , 0.56277034, 0.28138517]), array([0.6004688, 0.       , 0.       ]), array([0.        , 0.56277034, 0.28138517]), array([0.6004688, 0.       , 0.       ]), array([0.        , 0.56277034, 0.28138517]), array([0.6004688, 0.       , 0.       ]), array([0.        , 0.56277034, 0.28138517]), array([0.6004688, 0.       , 0.       ]), array([0.        , 0.56277034, 0.28138517]), array([0.6004688, 0.       , 0.       ]), array([0.        , 0.56277034, 0.28138517]), array([0.6004688, 0.       , 0.       ]), array([0.        , 0.56277034, 0.28138517]), array([0.6004688, 0.       , 0.       ]), array([0.        , 0.56277034, 0.28138517]), array([0.6004688, 0.       , 0.       ]), array([0.        , 0.56277034, 0.28138517]), array([0.6004688, 0.       , 0.       ]), array([0.        , 0.56277034, 0.28138517]), array([0.6004688, 0.       , 0.       ]), array([0.        , 0.56277034, 0.28138517]), array([0.6004688, 0.       , 0.       ]), array([0.        , 0.56277034, 0.28138517]), array([0.6004688, 0.       , 0.       ]), array([0.        , 0.56277034, 0.28138517]), array([0.6004688, 0.       , 0.       ]), array([0.        , 0.56277034, 0.28138517]), array([0.6004688, 0.       , 0.       ]), array([0.        , 0.56277034, 0.28138517]), array([0.6004688, 0.       , 0.       ]), array([0.        , 0.56277034, 0.28138517]), array([0.6004688, 0.       , 0.       ]), array([0.        , 0.56277034, 0.28138517]), array([0.6004688, 0.       , 0.       ]), array([0.        , 0.56277034, 0.28138517]), array([0.6004688, 0.       , 0.       ]), array([0.        , 0.56277034, 0.28138517]), array([0.6004688, 0.       , 0.       ]), array([0.        , 0.56277034, 0.28138517]), array([0.6004688, 0.       , 0.       ]), array([0.        , 0.56277034, 0.28138517]), array([0.6004688, 0.       , 0.       ]), array([0.        , 0.56277034, 0.28138517]), array([0.6004688, 0.       , 0.       ]), array([0.        , 0.56277034, 0.28138517]), array([0.6004688, 0.       , 0.       ]), array([0.        , 0.56277034, 0.28138517]), array([0.6004688, 0.       , 0.       ]), array([0.        , 0.56277034, 0.28138517]), array([0.6004688, 0.       , 0.       ]), array([0.        , 0.56277034, 0.28138517]), array([0.6004688, 0.       , 0.       ]), array([0.        , 0.56277034, 0.28138517]), array([0.6004688, 0.       , 0.       ]), array([0.        , 0.56277034, 0.28138517]), array([0.6004688, 0.       , 0.       ]), array([0.        , 0.56277034, 0.28138517]), array([0.6004688, 0.       , 0.       ]), array([0.        , 0.56277034, 0.28138517]), array([0.6004688, 0.       , 0.       ]), array([0.        , 0.56277034, 0.28138517]), array([0.6004688, 0.       , 0.       ]), array([0.        , 0.56277034, 0.28138517]), array([0.6004688, 0.       , 0.       ]), array([0.        , 0.56277034, 0.28138517]), array([0.6004688, 0.       , 0.       ]), array([0.        , 0.56277034, 0.28138517]), array([0.6004688, 0.       , 0.       ]), array([0.        , 0.56277034, 0.28138517]), array([0.6004688, 0.       , 0.       ]), array([0.        , 0.56277034, 0.28138517]), array([0.6004688, 0.       , 0.       ]), array([0.        , 0.56277034, 0.28138517]), array([0.6004688, 0.       , 0.       ])]\n"
     ]
    }
   ],
   "source": [
    "def project(x):\n",
    "    return np.array([max(min(x_i, 1), 0) for x_i in x])\n",
    "\n",
    "\n",
    "def projected_grad():\n",
    "    alpha = 2.0 / (sum(lambdas))\n",
    "    traj_opt_step = []\n",
    "    n = len(b)\n",
    "    x_start = np.array([1 for _ in range(n)])\n",
    "    traj_opt_step.append(x_start.copy())\n",
    "    cur_x = x_start.copy()\n",
    "    for i in range(200):\n",
    "        cur_x = cur_x - alpha * f_grad(cur_x)\n",
    "        cur_x = project(cur_x)\n",
    "        traj_opt_step.append(cur_x.copy())\n",
    "    return traj_opt_step\n",
    "\n",
    "\n",
    "print(projected_grad())\n"
   ]
  },
  {
   "cell_type": "code",
   "execution_count": 138,
   "metadata": {},
   "outputs": [
    {
     "name": "stdout",
     "output_type": "stream",
     "text": [
      "[ 1.55e-06 -2.70e-07]\n"
     ]
    }
   ],
   "source": [
    "# 2) 1\n",
    "from scipy.optimize import linprog\n",
    "\n",
    "\n",
    "def get_interior_point(A, b):\n",
    "    n = len(A[0])\n",
    "    bounds_for_coordinates = [(None, None) for _ in range(n)]\n",
    "    coefficients_x_i = [0 for _ in range(n)]\n",
    "\n",
    "    def get_x_i_bounds(i):\n",
    "        bounds = None\n",
    "        coefficients_x_i[i] = 1\n",
    "        min_bound = linprog(coefficients_x_i,\n",
    "                            A_ub=A,\n",
    "                            b_ub=b,\n",
    "                            bounds=bounds_for_coordinates)\n",
    "        coefficients_x_i[i] = -1\n",
    "        max_bound = linprog(coefficients_x_i,\n",
    "                            A_ub=A,\n",
    "                            b_ub=b,\n",
    "                            bounds=bounds_for_coordinates)\n",
    "        coefficients_x_i[i] = 0\n",
    "        min_x_i = min_bound.fun\n",
    "        max_x_i = -max_bound.fun\n",
    "        if min_bound.status == 0 and max_bound.status == 0:\n",
    "            bounds = [min_x_i, max_x_i]\n",
    "        elif min_bound.status == 0:\n",
    "            bounds = [min_x_i, min_x_i + 2]\n",
    "        elif max_bound.status == 0:\n",
    "            bounds = [max_x_i - 2, max_x_i]\n",
    "        elif min_bound.status == 3 and max_bound.status == 3:\n",
    "            bounds = [-8, 8]\n",
    "        return bounds\n",
    "\n",
    "    inner_point = []\n",
    "    for i in range(n):\n",
    "        bounds = get_x_i_bounds(i)\n",
    "        if bounds is None or bounds[0] == bounds[1]:\n",
    "            return None\n",
    "        bounds_for_coordinates[i] = (bounds[0], bounds[1])\n",
    "        inner_point.append((bounds[0] + bounds[1])/2)\n",
    "    return inner_point\n"
   ]
  },
  {
   "cell_type": "code",
   "execution_count": null,
   "metadata": {},
   "outputs": [],
   "source": [
    "# 2) 2\n",
    "A = np.array([[1, 2, 3], [4, 5, 6], [7, 8, 9]])\n",
    "b = np.array([1, 2, 3])\n",
    "c = 5\n",
    "EqA = np.array([[1, 0, 0], [0, 1, 0], [0, 0, 1], [-1, 0, 0, ], [0, -1, 0], [0, 0, -1]])\n",
    "EqB = np.array([[1], [1], [1], [0], [0], [0]])\n",
    "m = len(EqB)\n",
    "\n",
    "\n",
    "def grad_Fi(x):\n",
    "    grad = 0\n",
    "    for i in range(m):\n",
    "        grad += 1.0 / (EqB[i] - EqA[i] @ x) * EqA[i]\n",
    "    return np.transpose(grad)\n",
    "\n",
    "\n",
    "def hessian_Fi(x):\n",
    "    d = np.diag(np.array([1.0 / (EqB[i][0] - EqA[i] @ x) ** 2 for i in range(m)]))\n",
    "    return EqA.T @ d @ EqA\n",
    "\n",
    "\n",
    "def grad_f(x):\n",
    "    return A @ x - b\n",
    "\n",
    "\n",
    "def hessian_f(x):\n",
    "    return A\n",
    "\n",
    "\n",
    "def grad_F(x):\n",
    "    return lambda t: t * grad_f(x) + grad_Fi(x)\n",
    "\n",
    "\n",
    "def hessian_F(x):\n",
    "    return lambda t: t * hessian_f(x) + hessian_Fi(x)\n",
    "\n",
    "\n",
    "def interior_point_method(x_start):\n",
    "    cur_x = x_start.copy()\n",
    "    t = 1.5\n",
    "    alpha = 1.5\n",
    "    trajectory = []\n",
    "    for i in range(50):\n",
    "        cur_x = cur_x - np.linalg.inv(hessian_F(cur_x)(t)) @ grad_F(cur_x)(t)\n",
    "        trajectory.append(cur_x.copy())\n",
    "        t = alpha * t\n",
    "    return trajectory\n",
    "\n",
    "\n",
    "interior_point = get_interior_point(EqA, EqB)\n",
    "print(interior_point)\n",
    "interior_point_method(interior_point)\n"
   ]
  }
 ],
 "metadata": {
  "kernelspec": {
   "display_name": "Python 3",
   "language": "python",
   "name": "python3"
  },
  "language_info": {
   "codemirror_mode": {
    "name": "ipython",
    "version": 3
   },
   "file_extension": ".py",
   "mimetype": "text/x-python",
   "name": "python",
   "nbconvert_exporter": "python",
   "pygments_lexer": "ipython3",
   "version": "3.6.4"
  }
 },
 "nbformat": 4,
 "nbformat_minor": 1
}
